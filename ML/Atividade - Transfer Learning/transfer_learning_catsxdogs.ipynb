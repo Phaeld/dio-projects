{
  "nbformat": 4,
  "nbformat_minor": 0,
  "metadata": {
    "colab": {
      "provenance": []
    },
    "kernelspec": {
      "name": "python3",
      "display_name": "Python 3"
    },
    "language_info": {
      "name": "python"
    }
  },
  "cells": [
    {
      "cell_type": "markdown",
      "source": [
        "# **ATIVIDADE PROPOSTA DE TRANSFER LEARNING - DIO**"
      ],
      "metadata": {
        "id": "XfsDiskjtXWo"
      }
    },
    {
      "cell_type": "markdown",
      "source": [
        "# **DESCRIÇÃO**\n",
        "O projeto consiste em aplicar o método de Transfer Learning em uma rede de Deep Learning na linguagem Python no ambiente COLAB. Neste projeto, você pode usar sua própria base de dados (exemplo: fotos suas, dos seus pais, dos seus amigos, dos seus animais domésticos, etc), o exemplo de gatos e cachorros, pode ser substituído por duas outras classes do seu interesse. O Dataset criado em nosso projeto anterior, pode ser utilizado agora."
      ],
      "metadata": {
        "id": "sGaFCRBLtwLn"
      }
    },
    {
      "cell_type": "markdown",
      "source": [
        "Nome do programa: Transfer Learning Cats X Dogs\n",
        "\n",
        "---\n",
        "\n",
        "\n",
        "Autor: Raphael da Silva\n",
        "\n",
        "---\n",
        "\n",
        "\n",
        "Data: 08/07/2024\n",
        "\n",
        "---\n"
      ],
      "metadata": {
        "id": "N4YAs0B7u5K1"
      }
    },
    {
      "cell_type": "markdown",
      "source": [
        "\n",
        "\n",
        "\n",
        "> Vamos usar uma rede pré-treinada, como a MobileNetV2, e ajustá-la para classificar gatos e cachorros.\n",
        "\n",
        "\n",
        "\n",
        "> Passo 1: Configuração do Ambiente no Google Colab\n",
        "\n"
      ],
      "metadata": {
        "id": "9ZAgs-M5voLd"
      }
    },
    {
      "cell_type": "code",
      "execution_count": null,
      "metadata": {
        "id": "DYS_6D9RtV3j"
      },
      "outputs": [],
      "source": [
        "# Importando as bibliotecas necessárias\n",
        "\n",
        "import tensorflow as tf\n",
        "from tensorflow.keras import layers, models\n",
        "import matplotlib.pyplot as plt\n",
        "import numpy as np\n",
        "import os"
      ]
    },
    {
      "cell_type": "markdown",
      "source": [
        "\n",
        "\n",
        "> Passo 2: Carregar a Base de Dados de Gatos e Cachorros\n",
        "\n"
      ],
      "metadata": {
        "id": "wpErP4mawXmX"
      }
    },
    {
      "cell_type": "code",
      "source": [
        "import tensorflow_datasets as tfds\n",
        "\n",
        "# Carregar a base de dados de gatos e cachorros\n",
        "(ds_train, ds_val), ds_info = tfds.load(\n",
        "    'cats_vs_dogs',\n",
        "    split=['train[:80%]', 'train[80%:]'],\n",
        "    with_info=True,\n",
        "    as_supervised=True,\n",
        ")"
      ],
      "metadata": {
        "id": "vcbQEzqbwGS5"
      },
      "execution_count": null,
      "outputs": []
    },
    {
      "cell_type": "markdown",
      "source": [
        "\n",
        "\n",
        "> Passo 3: Pré-processamento dos Dados\n",
        "\n"
      ],
      "metadata": {
        "id": "YeD2C29-wlrU"
      }
    },
    {
      "cell_type": "code",
      "source": [
        "# Redimensionamento das imagens e normalização dos pixels\n",
        "\n",
        "IMG_SIZE = 160\n",
        "\n",
        "def preprocess(image, label):\n",
        "    image = tf.image.resize(image, (IMG_SIZE, IMG_SIZE))\n",
        "    image = image / 255.0  # Normalizar os pixels\n",
        "    return image, label\n",
        "\n",
        "ds_train = ds_train.map(preprocess).batch(32).prefetch(buffer_size=tf.data.experimental.AUTOTUNE)\n",
        "ds_val = ds_val.map(preprocess).batch(32).prefetch(buffer_size=tf.data.experimental.AUTOTUNE)\n"
      ],
      "metadata": {
        "id": "4oltLFpNwsT-"
      },
      "execution_count": null,
      "outputs": []
    },
    {
      "cell_type": "markdown",
      "source": [
        "\n",
        "\n",
        "> Passo 4: Carregar o Modelo Pré-treinado e Adaptar\n",
        "\n"
      ],
      "metadata": {
        "id": "lek6Z71wxJ14"
      }
    },
    {
      "cell_type": "code",
      "source": [
        "base_model = tf.keras.applications.MobileNetV2(input_shape=(IMG_SIZE, IMG_SIZE, 3),\n",
        "                                               include_top=False,\n",
        "                                               weights='imagenet')\n",
        "base_model.trainable = False  # Congelar as camadas do modelo base\n",
        "\n",
        "# Adicionar camadas superiores\n",
        "model = models.Sequential([\n",
        "    base_model,\n",
        "    layers.GlobalAveragePooling2D(),\n",
        "    layers.Dense(1)  # Saída binária para gatos vs. cachorros\n",
        "])\n",
        "\n",
        "model.compile(optimizer='adam',\n",
        "              loss=tf.keras.losses.BinaryCrossentropy(from_logits=True),\n",
        "              metrics=['accuracy'])\n"
      ],
      "metadata": {
        "id": "yKdNYZerxTaq"
      },
      "execution_count": null,
      "outputs": []
    },
    {
      "cell_type": "markdown",
      "source": [
        "\n",
        "\n",
        "> Passo 5: Treinar o Modelo\n",
        "\n"
      ],
      "metadata": {
        "id": "E4iC1p4Hxb8z"
      }
    },
    {
      "cell_type": "code",
      "source": [
        "history = model.fit(ds_train,\n",
        "                    epochs=5,\n",
        "                    validation_data=ds_val)\n"
      ],
      "metadata": {
        "id": "RdZHgWWUxi8x"
      },
      "execution_count": null,
      "outputs": []
    },
    {
      "cell_type": "markdown",
      "source": [
        "\n",
        "\n",
        "> Passo 6: Avaliar o Modelo\n",
        "\n"
      ],
      "metadata": {
        "id": "gfMgvFRHxkyz"
      }
    },
    {
      "cell_type": "code",
      "source": [
        "loss, accuracy = model.evaluate(ds_val)\n",
        "print(f'Loss: {loss}')\n",
        "print(f'Accuracy: {accuracy}')\n"
      ],
      "metadata": {
        "id": "pMXMtGqWxrp9"
      },
      "execution_count": null,
      "outputs": []
    },
    {
      "cell_type": "markdown",
      "source": [
        "\n",
        "\n",
        "> Passo 7: Visualizar os Resultados\n",
        "\n"
      ],
      "metadata": {
        "id": "QtwICaZTxugu"
      }
    },
    {
      "cell_type": "code",
      "source": [
        "acc = history.history['accuracy']\n",
        "val_acc = history.history['val_accuracy']\n",
        "\n",
        "loss = history.history['loss']\n",
        "val_loss = history.history['val_loss']\n",
        "\n",
        "epochs_range = range(len(acc))\n",
        "\n",
        "plt.figure(figsize=(8, 8))\n",
        "plt.subplot(1, 2, 1)\n",
        "plt.plot(epochs_range, acc, label='Training Accuracy')\n",
        "plt.plot(epochs_range, val_acc, label='Validation Accuracy')\n",
        "plt.legend(loc='lower right')\n",
        "plt.title('Training and Validation Accuracy')\n",
        "\n",
        "plt.subplot(1, 2, 2)\n",
        "plt.plot(epochs_range, loss, label='Training Loss')\n",
        "plt.plot(epochs_range, val_loss, label='Validation Loss')\n",
        "plt.legend(loc='upper right')\n",
        "plt.title('Training and Validation Loss')\n",
        "plt.show()\n"
      ],
      "metadata": {
        "id": "Lar1pR7Gx0aM"
      },
      "execution_count": null,
      "outputs": []
    },
    {
      "cell_type": "markdown",
      "source": [
        "### **RESUMO**\n",
        "\n",
        "\n",
        "\n",
        "1.   Carregamos a base de dados de gatos e cachorros do TensorFlow Datasets.\n",
        "2.   Pré-processamos as imagens.\n",
        "\n",
        "1.   Utilizamos a MobileNetV2 pré-treinada e adicionamos uma camada de saída.\n",
        "\n",
        "1.   Treinamos o modelo por 5 épocas.\n",
        "2.   Avaliamos o modelo e plotamos os resultados.\n",
        "\n",
        "\n",
        "\n",
        "\n",
        "\n",
        "\n",
        "\n",
        "\n",
        "### **Próximos Passos**\n",
        "Você pode aumentar o número de épocas para melhorar a precisão e explorar outras arquiteturas de modelos pré-treinados disponíveis no TensorFlow. Se tiver dúvidas ou precisar de mais detalhes, estou aqui para ajudar!\n",
        "\n",
        "Entrar contato com:\n",
        "rapssilvalone@gmail.com"
      ],
      "metadata": {
        "id": "WmLOQZZTx4_g"
      }
    }
  ]
}