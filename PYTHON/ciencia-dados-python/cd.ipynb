{
 "cells": [
  {
   "cell_type": "markdown",
   "metadata": {},
   "source": [
    "# ANÁLISE E TRATAMENTOS DE DADOS\n",
    "### POR: RAPHAEL DA SILVA\n",
    "### PROJETO: PYTHON DEVELOPER DIO\n",
    "<hr>\n",
    "Esse projeto foi desenvolvido afins de atender o que foi apresentado nas aulas de análise de dados."
   ]
  },
  {
   "cell_type": "markdown",
   "metadata": {},
   "source": [
    "<b>Comandos para Instalação das Bibliotecas Necessárias\n",
    "Para instalar as bibliotecas necessárias para executar o código Python que forneci, você precisará utilizar o gerenciador de pacotes pip.</b>\n",
    "\n",
    "Abra seu terminal ou prompt de comando e execute os seguintes comandos:"
   ]
  },
  {
   "cell_type": "code",
   "execution_count": 6,
   "metadata": {},
   "outputs": [
    {
     "name": "stdout",
     "output_type": "stream",
     "text": [
      "Defaulting to user installation because normal site-packages is not writeable\n",
      "Collecting pandas\n",
      "  Using cached pandas-2.2.2-cp312-cp312-win_amd64.whl.metadata (19 kB)\n",
      "Requirement already satisfied: numpy in c:\\users\\rapha\\appdata\\local\\packages\\pythonsoftwarefoundation.python.3.12_qbz5n2kfra8p0\\localcache\\local-packages\\python312\\site-packages (2.1.1)\n",
      "Collecting plotly\n",
      "  Downloading plotly-5.24.1-py3-none-any.whl.metadata (7.3 kB)\n",
      "Requirement already satisfied: python-dateutil>=2.8.2 in c:\\users\\rapha\\appdata\\local\\packages\\pythonsoftwarefoundation.python.3.12_qbz5n2kfra8p0\\localcache\\local-packages\\python312\\site-packages (from pandas) (2.9.0.post0)\n",
      "Collecting pytz>=2020.1 (from pandas)\n",
      "  Downloading pytz-2024.2-py2.py3-none-any.whl.metadata (22 kB)\n",
      "Collecting tzdata>=2022.7 (from pandas)\n",
      "  Downloading tzdata-2024.1-py2.py3-none-any.whl.metadata (1.4 kB)\n",
      "Collecting tenacity>=6.2.0 (from plotly)\n",
      "  Downloading tenacity-9.0.0-py3-none-any.whl.metadata (1.2 kB)\n",
      "Requirement already satisfied: packaging in c:\\users\\rapha\\appdata\\local\\packages\\pythonsoftwarefoundation.python.3.12_qbz5n2kfra8p0\\localcache\\local-packages\\python312\\site-packages (from plotly) (24.1)\n",
      "Requirement already satisfied: six>=1.5 in c:\\users\\rapha\\appdata\\local\\packages\\pythonsoftwarefoundation.python.3.12_qbz5n2kfra8p0\\localcache\\local-packages\\python312\\site-packages (from python-dateutil>=2.8.2->pandas) (1.16.0)\n",
      "Downloading pandas-2.2.2-cp312-cp312-win_amd64.whl (11.5 MB)\n",
      "   ---------------------------------------- 0.0/11.5 MB ? eta -:--:--\n",
      "   - -------------------------------------- 0.5/11.5 MB 2.4 MB/s eta 0:00:05\n",
      "   ----- ---------------------------------- 1.6/11.5 MB 4.2 MB/s eta 0:00:03\n",
      "   -------- ------------------------------- 2.4/11.5 MB 4.5 MB/s eta 0:00:03\n",
      "   ------------ --------------------------- 3.7/11.5 MB 4.7 MB/s eta 0:00:02\n",
      "   --------------- ------------------------ 4.5/11.5 MB 4.6 MB/s eta 0:00:02\n",
      "   -------------------- ------------------- 5.8/11.5 MB 4.8 MB/s eta 0:00:02\n",
      "   ----------------------- ---------------- 6.8/11.5 MB 4.8 MB/s eta 0:00:01\n",
      "   --------------------------- ------------ 7.9/11.5 MB 4.9 MB/s eta 0:00:01\n",
      "   ------------------------------- -------- 8.9/11.5 MB 4.9 MB/s eta 0:00:01\n",
      "   ---------------------------------- ----- 10.0/11.5 MB 5.0 MB/s eta 0:00:01\n",
      "   -------------------------------------- - 11.0/11.5 MB 4.9 MB/s eta 0:00:01\n",
      "   ---------------------------------------- 11.5/11.5 MB 5.0 MB/s eta 0:00:00\n",
      "Downloading plotly-5.24.1-py3-none-any.whl (19.1 MB)\n",
      "   ---------------------------------------- 0.0/19.1 MB ? eta -:--:--\n",
      "   - -------------------------------------- 0.8/19.1 MB 4.8 MB/s eta 0:00:04\n",
      "   --- ------------------------------------ 1.8/19.1 MB 4.8 MB/s eta 0:00:04\n",
      "   --- ------------------------------------ 1.8/19.1 MB 4.8 MB/s eta 0:00:04\n",
      "   --- ------------------------------------ 1.8/19.1 MB 4.8 MB/s eta 0:00:04\n",
      "   --- ------------------------------------ 1.8/19.1 MB 4.8 MB/s eta 0:00:04\n",
      "   ------ --------------------------------- 3.1/19.1 MB 2.4 MB/s eta 0:00:07\n",
      "   -------- ------------------------------- 3.9/19.1 MB 2.6 MB/s eta 0:00:06\n",
      "   --------- ------------------------------ 4.7/19.1 MB 2.8 MB/s eta 0:00:06\n",
      "   ----------- ---------------------------- 5.5/19.1 MB 2.9 MB/s eta 0:00:05\n",
      "   ------------- -------------------------- 6.3/19.1 MB 3.1 MB/s eta 0:00:05\n",
      "   --------------- ------------------------ 7.3/19.1 MB 3.2 MB/s eta 0:00:04\n",
      "   ------------------ --------------------- 8.7/19.1 MB 3.4 MB/s eta 0:00:04\n",
      "   ------------------ --------------------- 8.7/19.1 MB 3.4 MB/s eta 0:00:04\n",
      "   -------------------- ------------------- 9.7/19.1 MB 3.3 MB/s eta 0:00:03\n",
      "   ---------------------- ----------------- 10.7/19.1 MB 3.4 MB/s eta 0:00:03\n",
      "   ------------------------- -------------- 12.1/19.1 MB 3.6 MB/s eta 0:00:02\n",
      "   --------------------------- ------------ 13.1/19.1 MB 3.7 MB/s eta 0:00:02\n",
      "   ----------------------------- ---------- 14.2/19.1 MB 3.8 MB/s eta 0:00:02\n",
      "   -------------------------------- ------- 15.5/19.1 MB 3.9 MB/s eta 0:00:01\n",
      "   ---------------------------------- ----- 16.3/19.1 MB 3.9 MB/s eta 0:00:01\n",
      "   ------------------------------------ --- 17.6/19.1 MB 4.0 MB/s eta 0:00:01\n",
      "   ---------------------------------------  18.6/19.1 MB 4.0 MB/s eta 0:00:01\n",
      "   ---------------------------------------- 19.1/19.1 MB 4.0 MB/s eta 0:00:00\n",
      "Downloading pytz-2024.2-py2.py3-none-any.whl (508 kB)\n",
      "Downloading tenacity-9.0.0-py3-none-any.whl (28 kB)\n",
      "Downloading tzdata-2024.1-py2.py3-none-any.whl (345 kB)\n",
      "Installing collected packages: pytz, tzdata, tenacity, plotly, pandas\n",
      "Successfully installed pandas-2.2.2 plotly-5.24.1 pytz-2024.2 tenacity-9.0.0 tzdata-2024.1\n",
      "Note: you may need to restart the kernel to use updated packages.\n"
     ]
    }
   ],
   "source": [
    "pip install pandas numpy plotly"
   ]
  },
  {
   "cell_type": "code",
   "execution_count": 7,
   "metadata": {},
   "outputs": [],
   "source": [
    "# Importe as bibliotecas necessárias\n",
    "import pandas as pd\n",
    "import numpy as np\n",
    "import plotly.express as px"
   ]
  },
  {
   "cell_type": "code",
   "execution_count": null,
   "metadata": {},
   "outputs": [],
   "source": [
    "# Carregar os dados\n",
    "url = \"https://seu_link_para_o_csv.csv\"\n",
    "df = pd.read_csv(url)"
   ]
  },
  {
   "cell_type": "code",
   "execution_count": null,
   "metadata": {},
   "outputs": [],
   "source": [
    "# Limpeza e tratamento dos dados (exemplo básico)\n",
    "df.dropna(inplace=True)  # Remover linhas com valores nulos\n",
    "df['data'] = pd.to_datetime(df['data'])  # Converter coluna 'data' para formato datetime"
   ]
  },
  {
   "cell_type": "code",
   "execution_count": null,
   "metadata": {},
   "outputs": [],
   "source": [
    "# Função para criar gráficos\n",
    "def criar_grafico(df, x, y, title, color=None):\n",
    "    fig = px.bar(df, x=x, y=y, color=color, title=title)\n",
    "    fig.show()"
   ]
  },
  {
   "cell_type": "code",
   "execution_count": null,
   "metadata": {},
   "outputs": [],
   "source": [
    "# Análises e visualizações\n",
    "# 1. Vendas por loja\n",
    "vendas_por_loja = df.groupby('loja')['valor'].sum()\n",
    "criar_grafico(vendas_por_loja.reset_index(), 'loja', 'valor', 'Vendas Totais por Loja')"
   ]
  },
  {
   "cell_type": "code",
   "execution_count": null,
   "metadata": {},
   "outputs": [],
   "source": [
    "# 2. Vendas por produto\n",
    "vendas_por_produto = df.groupby('produto')['valor'].sum()\n",
    "criar_grafico(vendas_por_produto.reset_index(), 'produto', 'valor', 'Vendas Totais por Produto')"
   ]
  },
  {
   "cell_type": "code",
   "execution_count": null,
   "metadata": {},
   "outputs": [],
   "source": [
    "# 3. Vendas por mês\n",
    "df['mes'] = df['data'].dt.month\n",
    "vendas_por_mes = df.groupby('mes')['valor'].sum()\n",
    "criar_grafico(vendas_por_mes.reset_index(), 'mes', 'valor', 'Vendas Totais por Mês')"
   ]
  },
  {
   "cell_type": "code",
   "execution_count": null,
   "metadata": {},
   "outputs": [],
   "source": [
    "# 4. Vendas por loja e mês (heatmap)\n",
    "heatmap = df.groupby(['loja', 'mes'])['valor'].sum().unstack()\n",
    "fig = px.heatmap(heatmap, title='Vendas por Loja e Mês')\n",
    "fig.show()"
   ]
  }
 ],
 "metadata": {
  "kernelspec": {
   "display_name": "Python 3",
   "language": "python",
   "name": "python3"
  },
  "language_info": {
   "codemirror_mode": {
    "name": "ipython",
    "version": 3
   },
   "file_extension": ".py",
   "mimetype": "text/x-python",
   "name": "python",
   "nbconvert_exporter": "python",
   "pygments_lexer": "ipython3",
   "version": "3.12.6"
  }
 },
 "nbformat": 4,
 "nbformat_minor": 2
}
