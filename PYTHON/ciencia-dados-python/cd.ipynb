{
 "cells": [
  {
   "cell_type": "markdown",
   "metadata": {},
   "source": [
    "# ANÁLISE E TRATAMENTOS DE DADOS\n",
    "### POR: RAPHAEL DA SILVA\n",
    "### PROJETO: PYTHON DEVELOPER DIO\n",
    "<hr>\n",
    "Esse projeto foi desenvolvido afins de atender o que foi apresentado nas aulas de análise de dados."
   ]
  },
  {
   "cell_type": "markdown",
   "metadata": {},
   "source": [
    "<b>Comandos para Instalação das Bibliotecas Necessárias\n",
    "Para instalar as bibliotecas necessárias para executar o código Python que forneci, você precisará utilizar o gerenciador de pacotes pip.</b>\n",
    "\n",
    "Abra seu terminal ou prompt de comando e execute os seguintes comandos:"
   ]
  },
  {
   "cell_type": "code",
   "execution_count": null,
   "metadata": {},
   "outputs": [],
   "source": [
    "pip install pandas\n",
    "pip install numpy\n",
    "pip install plotly"
   ]
  },
  {
   "cell_type": "code",
   "execution_count": null,
   "metadata": {},
   "outputs": [],
   "source": [
    "# Importe as bibliotecas necessárias\n",
    "import pandas as pd\n",
    "import numpy as np\n",
    "import plotly.express as px"
   ]
  },
  {
   "cell_type": "code",
   "execution_count": null,
   "metadata": {},
   "outputs": [],
   "source": [
    "# Carregar os dados\n",
    "url = \"https://seu_link_para_o_csv.csv\"\n",
    "df = pd.read_csv(url)"
   ]
  },
  {
   "cell_type": "code",
   "execution_count": null,
   "metadata": {},
   "outputs": [],
   "source": [
    "# Limpeza e tratamento dos dados (exemplo básico)\n",
    "df.dropna(inplace=True)  # Remover linhas com valores nulos\n",
    "df['data'] = pd.to_datetime(df['data'])  # Converter coluna 'data' para formato datetime"
   ]
  },
  {
   "cell_type": "code",
   "execution_count": null,
   "metadata": {},
   "outputs": [],
   "source": [
    "# Função para criar gráficos\n",
    "def criar_grafico(df, x, y, title, color=None):\n",
    "    fig = px.bar(df, x=x, y=y, color=color, title=title)\n",
    "    fig.show()"
   ]
  },
  {
   "cell_type": "code",
   "execution_count": null,
   "metadata": {},
   "outputs": [],
   "source": [
    "# Análises e visualizações\n",
    "# 1. Vendas por loja\n",
    "vendas_por_loja = df.groupby('loja')['valor'].sum()\n",
    "criar_grafico(vendas_por_loja.reset_index(), 'loja', 'valor', 'Vendas Totais por Loja')"
   ]
  },
  {
   "cell_type": "code",
   "execution_count": null,
   "metadata": {},
   "outputs": [],
   "source": [
    "# 2. Vendas por produto\n",
    "vendas_por_produto = df.groupby('produto')['valor'].sum()\n",
    "criar_grafico(vendas_por_produto.reset_index(), 'produto', 'valor', 'Vendas Totais por Produto')"
   ]
  },
  {
   "cell_type": "code",
   "execution_count": null,
   "metadata": {},
   "outputs": [],
   "source": [
    "# 3. Vendas por mês\n",
    "df['mes'] = df['data'].dt.month\n",
    "vendas_por_mes = df.groupby('mes')['valor'].sum()\n",
    "criar_grafico(vendas_por_mes.reset_index(), 'mes', 'valor', 'Vendas Totais por Mês')"
   ]
  },
  {
   "cell_type": "code",
   "execution_count": null,
   "metadata": {},
   "outputs": [],
   "source": [
    "# 4. Vendas por loja e mês (heatmap)\n",
    "heatmap = df.groupby(['loja', 'mes'])['valor'].sum().unstack()\n",
    "fig = px.heatmap(heatmap, title='Vendas por Loja e Mês')\n",
    "fig.show()"
   ]
  }
 ],
 "metadata": {
  "language_info": {
   "name": "python"
  }
 },
 "nbformat": 4,
 "nbformat_minor": 2
}
