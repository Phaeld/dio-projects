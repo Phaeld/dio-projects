{
  "nbformat": 4,
  "nbformat_minor": 0,
  "metadata": {
    "colab": {
      "provenance": []
    },
    "kernelspec": {
      "name": "python3",
      "display_name": "Python 3"
    },
    "language_info": {
      "name": "python"
    }
  },
  "cells": [
    {
      "cell_type": "markdown",
      "source": [
        "# **Criando uma API com Flask no Ambiente COLAB**\n",
        "---\n",
        "\n",
        "## **Passos para Implementar a API no Flask**\n",
        "1. Configuração do Ambiente no Google Colab\n",
        "2. Instalação do Flask no Colab\n",
        "3. Criação do Servidor Flask\n",
        "4. Leitura do Arquivo JSON\n",
        "5. Implementação do Endpoint /index\n",
        "\n",
        "## **1. Configuração do Ambiente no Google Colab**\n",
        "Primeiro, configure o Google Colab para permitir a execução de um servidor Flask. No Google Colab, você precisa permitir que a execução permaneça em execução.\n",
        "\n",
        "\n"
      ],
      "metadata": {
        "id": "fuPpVs5WcuHe"
      }
    },
    {
      "cell_type": "markdown",
      "source": [
        "## **2. Instalação do Flask no Colab**\n",
        "No Google Colab, instale o Flask usando o pip:"
      ],
      "metadata": {
        "id": "IN3eM2Mod0mr"
      }
    },
    {
      "cell_type": "code",
      "execution_count": null,
      "metadata": {
        "id": "wyWHqXmucrgk"
      },
      "outputs": [],
      "source": [
        "!pip install flask\n",
        "!pip install flask-ngrok\n"
      ]
    },
    {
      "cell_type": "markdown",
      "source": [
        "## **3. Criação do Servidor Flask**\n",
        "Crie um servidor Flask básico e configure o ngrok para obter uma URL pública para o seu servidor.\n",
        "\n",
        "## **4. Leitura do Arquivo JSON**\n",
        "Vamos criar um arquivo JSON que representa os dados da planilha.\n",
        "\n",
        "## **5. Implementação do Endpoint /index**\n",
        "Aqui está um exemplo completo reunindo todos os passos:"
      ],
      "metadata": {
        "id": "olHsqcCCeAhd"
      }
    },
    {
      "cell_type": "code",
      "source": [
        "# Importando as bibliotecas necessárias\n",
        "from flask import Flask, jsonify\n",
        "from flask_ngrok import run_with_ngrok\n",
        "import json\n",
        "\n",
        "# Dados da planilha no formato JSON\n",
        "data = [\n",
        "    {\"Number\": 1, \"Name\": \"Mahesh\", \"Age\": 25, \"City\": \"Bangalore\", \"Country\": \"India\"},\n",
        "    {\"Number\": 2, \"Name\": \"Alex\", \"Age\": 26, \"City\": \"London\", \"Country\": \"UK\"},\n",
        "    {\"Number\": 3, \"Name\": \"David\", \"Age\": 27, \"City\": \"San Francisco\", \"Country\": \"USA\"},\n",
        "    {\"Number\": 4, \"Name\": \"John\", \"Age\": 28, \"City\": \"Toronto\", \"Country\": \"Canada\"},\n",
        "    {\"Number\": 5, \"Name\": \"Chris\", \"Age\": 27, \"City\": \"Paris\", \"Country\": \"France\"}\n",
        "]\n",
        "\n",
        "# Salvando os dados em um arquivo JSON\n",
        "with open('data.json', 'w') as json_file:\n",
        "    json.dump(data, json_file)\n",
        "\n",
        "# Criando a aplicação Flask\n",
        "app = Flask(__name__)\n",
        "run_with_ngrok(app)  # Inicializando o ngrok\n",
        "\n",
        "# Definindo a rota /index\n",
        "@app.route('/index', methods=['GET'])\n",
        "def index():\n",
        "    with open('data.json') as json_file:\n",
        "        data = json.load(json_file)\n",
        "    return jsonify(data)\n",
        "\n",
        "# Iniciando o servidor Flask\n",
        "if __name__ == '__main__':\n",
        "    app.run()\n"
      ],
      "metadata": {
        "id": "JdIYcJ_meKho"
      },
      "execution_count": null,
      "outputs": []
    }
  ]
}