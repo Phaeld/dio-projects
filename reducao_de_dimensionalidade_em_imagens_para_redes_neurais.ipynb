{
  "nbformat": 4,
  "nbformat_minor": 0,
  "metadata": {
    "colab": {
      "provenance": [],
      "authorship_tag": "ABX9TyMCka0Xh08/e4MRbkyWCdgj",
      "include_colab_link": true
    },
    "kernelspec": {
      "name": "python3",
      "display_name": "Python 3"
    },
    "language_info": {
      "name": "python"
    }
  },
  "cells": [
    {
      "cell_type": "markdown",
      "metadata": {
        "id": "view-in-github",
        "colab_type": "text"
      },
      "source": [
        "<a href=\"https://colab.research.google.com/github/Phaeld/dio-projects/blob/main/reducao_de_dimensionalidade_em_imagens_para_redes_neurais.ipynb\" target=\"_parent\"><img src=\"https://colab.research.google.com/assets/colab-badge.svg\" alt=\"Open In Colab\"/></a>"
      ]
    },
    {
      "cell_type": "markdown",
      "source": [
        "### **DESAFIO**\n",
        "\n",
        "Seguindo o exemplo do algoritmo de binarização apresentado em nossa última aula, realize a implementação em Python para transformar uma imagem colorida para níveis de cinza (0 a 255) e para binarizada (0 e 255), preto e branco.  \n",
        "\n",
        "\n",
        "\n",
        "---\n",
        "\n",
        "\n",
        "\n"
      ],
      "metadata": {
        "id": "DRrIdpsIjyEm"
      }
    },
    {
      "cell_type": "code",
      "execution_count": null,
      "metadata": {
        "id": "QchxmJJajPVn"
      },
      "outputs": [],
      "source": [
        "def read_image(file_path):\n",
        "    with open(file_path, 'rb') as f:\n",
        "        header = f.read(54)  # O cabeçalho BMP tem 54 bytes\n",
        "        width = int.from_bytes(header[18:22], byteorder='little')\n",
        "        height = int.from_bytes(header[22:26], byteorder='little')\n",
        "        pixel_data = f.read()\n",
        "    return width, height, pixel_data\n",
        "\n",
        "def write_image(file_path, header, pixel_data):\n",
        "    with open(file_path, 'wb') as f:\n",
        "        f.write(header)\n",
        "        f.write(pixel_data)\n",
        "\n",
        "def rgb_to_grayscale(pixel_data):\n",
        "    grayscale_data = bytearray()\n",
        "    for i in range(0, len(pixel_data), 3):\n",
        "        r = pixel_data[i+2]\n",
        "        g = pixel_data[i+1]\n",
        "        b = pixel_data[i]\n",
        "        gray = int(0.299 * r + 0.587 * g + 0.114 * b)\n",
        "        grayscale_data.extend([gray, gray, gray])\n",
        "    return grayscale_data\n",
        "\n",
        "def binarize(pixel_data, threshold=127):\n",
        "    binary_data = bytearray()\n",
        "    for i in range(0, len(pixel_data), 3):\n",
        "        gray = pixel_data[i]  # Como a imagem já está em tons de cinza, R=G=B\n",
        "        binary = 255 if gray > threshold else 0\n",
        "        binary_data.extend([binary, binary, binary])\n",
        "    return binary_data"
      ]
    },
    {
      "cell_type": "code",
      "source": [
        "# Caminho para a imagem BMP\n",
        "input_image_path = 'input.bmp'\n",
        "grayscale_image_path = 'grayscale.bmp'\n",
        "binary_image_path = 'binary.bmp'\n",
        "\n",
        "# Leitura da imagem\n",
        "width, height, pixel_data = read_image(input_image_path)\n",
        "\n",
        "# Conversão para tons de cinza\n",
        "grayscale_data = rgb_to_grayscale(pixel_data)\n",
        "\n",
        "# Escrever a imagem em tons de cinza\n",
        "header = bytearray(54)\n",
        "header[:2] = b'BM'\n",
        "header[10:14] = (54).to_bytes(4, byteorder='little')  # Offset do início dos dados de pixel\n",
        "header[14:18] = (40).to_bytes(4, byteorder='little')  # Tamanho do cabeçalho DIB\n",
        "header[18:22] = width.to_bytes(4, byteorder='little')\n",
        "header[22:26] = height.to_bytes(4, byteorder='little')\n",
        "header[26:28] = (1).to_bytes(2, byteorder='little')  # Planes\n",
        "header[28:30] = (24).to_bytes(2, byteorder='little')  # Bits por pixel\n",
        "header[34:38] = len(grayscale_data).to_bytes(4, byteorder='little')  # Tamanho da imagem\n",
        "write_image(grayscale_image_path, header, grayscale_data)\n",
        "\n",
        "# Binarização\n",
        "binary_data = binarize(grayscale_data)\n",
        "\n",
        "# Escrever a imagem binarizada\n",
        "write_image(binary_image_path, header, binary_data)"
      ],
      "metadata": {
        "id": "ITi0yHKAja0n"
      },
      "execution_count": null,
      "outputs": []
    }
  ]
}